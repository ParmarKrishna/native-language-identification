{
  "nbformat": 4,
  "nbformat_minor": 0,
  "metadata": {
    "colab": {
      "provenance": [],
      "authorship_tag": "ABX9TyOR9IR5fz/L+5VYxOX0W4dc"
    },
    "kernelspec": {
      "name": "python3",
      "display_name": "Python 3"
    },
    "language_info": {
      "name": "python"
    }
  },
  "cells": [
    {
      "cell_type": "markdown",
      "source": [
        "Native Language Identification\n",
        "# Data downloader\n",
        ">  Author: Krishna Parmar\n",
        "\n"
      ],
      "metadata": {
        "id": "CuEwzrjMhWU-"
      }
    },
    {
      "cell_type": "markdown",
      "source": [
        "## Connecting google drive"
      ],
      "metadata": {
        "id": "doM3Q_OliPFX"
      }
    },
    {
      "cell_type": "code",
      "execution_count": 2,
      "metadata": {
        "colab": {
          "base_uri": "https://localhost:8080/"
        },
        "id": "Z1k7HniehQjT",
        "outputId": "99f1e038-86b3-4828-e8fa-c318c4322645"
      },
      "outputs": [
        {
          "output_type": "stream",
          "name": "stdout",
          "text": [
            "Mounted at /content/drive\n"
          ]
        }
      ],
      "source": [
        "from google.colab import drive\n",
        "drive.mount('/content/drive',force_remount=True)"
      ]
    },
    {
      "cell_type": "markdown",
      "source": [
        "## Importing libraries required"
      ],
      "metadata": {
        "id": "mY4cCxQr1LIz"
      }
    },
    {
      "cell_type": "code",
      "source": [
        "!pip install librosa\n",
        "!pip install numpy\n",
        "!pip install scipy\n",
        "!pip install pandas"
      ],
      "metadata": {
        "colab": {
          "base_uri": "https://localhost:8080/"
        },
        "id": "QNdkiV3SilVQ",
        "outputId": "757adc7b-44c0-48d3-963e-ce8bed02bc78"
      },
      "execution_count": null,
      "outputs": [
        {
          "output_type": "stream",
          "name": "stdout",
          "text": [
            "Looking in indexes: https://pypi.org/simple, https://us-python.pkg.dev/colab-wheels/public/simple/\n",
            "Requirement already satisfied: librosa in /usr/local/lib/python3.8/dist-packages (0.8.1)\n",
            "Requirement already satisfied: soundfile>=0.10.2 in /usr/local/lib/python3.8/dist-packages (from librosa) (0.11.0)\n",
            "Requirement already satisfied: joblib>=0.14 in /usr/local/lib/python3.8/dist-packages (from librosa) (1.2.0)\n",
            "Requirement already satisfied: numpy>=1.15.0 in /usr/local/lib/python3.8/dist-packages (from librosa) (1.21.6)\n",
            "Requirement already satisfied: resampy>=0.2.2 in /usr/local/lib/python3.8/dist-packages (from librosa) (0.4.2)\n",
            "Requirement already satisfied: scipy>=1.0.0 in /usr/local/lib/python3.8/dist-packages (from librosa) (1.7.3)\n",
            "Requirement already satisfied: packaging>=20.0 in /usr/local/lib/python3.8/dist-packages (from librosa) (21.3)\n",
            "Requirement already satisfied: scikit-learn!=0.19.0,>=0.14.0 in /usr/local/lib/python3.8/dist-packages (from librosa) (1.0.2)\n",
            "Requirement already satisfied: pooch>=1.0 in /usr/local/lib/python3.8/dist-packages (from librosa) (1.6.0)\n",
            "Requirement already satisfied: decorator>=3.0.0 in /usr/local/lib/python3.8/dist-packages (from librosa) (4.4.2)\n",
            "Requirement already satisfied: audioread>=2.0.0 in /usr/local/lib/python3.8/dist-packages (from librosa) (3.0.0)\n",
            "Requirement already satisfied: numba>=0.43.0 in /usr/local/lib/python3.8/dist-packages (from librosa) (0.56.4)\n",
            "Requirement already satisfied: importlib-metadata in /usr/local/lib/python3.8/dist-packages (from numba>=0.43.0->librosa) (5.1.0)\n",
            "Requirement already satisfied: llvmlite<0.40,>=0.39.0dev0 in /usr/local/lib/python3.8/dist-packages (from numba>=0.43.0->librosa) (0.39.1)\n",
            "Requirement already satisfied: setuptools in /usr/local/lib/python3.8/dist-packages (from numba>=0.43.0->librosa) (57.4.0)\n",
            "Requirement already satisfied: pyparsing!=3.0.5,>=2.0.2 in /usr/local/lib/python3.8/dist-packages (from packaging>=20.0->librosa) (3.0.9)\n",
            "Requirement already satisfied: appdirs>=1.3.0 in /usr/local/lib/python3.8/dist-packages (from pooch>=1.0->librosa) (1.4.4)\n",
            "Requirement already satisfied: requests>=2.19.0 in /usr/local/lib/python3.8/dist-packages (from pooch>=1.0->librosa) (2.23.0)\n",
            "Requirement already satisfied: certifi>=2017.4.17 in /usr/local/lib/python3.8/dist-packages (from requests>=2.19.0->pooch>=1.0->librosa) (2022.12.7)\n",
            "Requirement already satisfied: urllib3!=1.25.0,!=1.25.1,<1.26,>=1.21.1 in /usr/local/lib/python3.8/dist-packages (from requests>=2.19.0->pooch>=1.0->librosa) (1.24.3)\n",
            "Requirement already satisfied: idna<3,>=2.5 in /usr/local/lib/python3.8/dist-packages (from requests>=2.19.0->pooch>=1.0->librosa) (2.10)\n",
            "Requirement already satisfied: chardet<4,>=3.0.2 in /usr/local/lib/python3.8/dist-packages (from requests>=2.19.0->pooch>=1.0->librosa) (3.0.4)\n",
            "Requirement already satisfied: threadpoolctl>=2.0.0 in /usr/local/lib/python3.8/dist-packages (from scikit-learn!=0.19.0,>=0.14.0->librosa) (3.1.0)\n",
            "Requirement already satisfied: cffi>=1.0 in /usr/local/lib/python3.8/dist-packages (from soundfile>=0.10.2->librosa) (1.15.1)\n",
            "Requirement already satisfied: pycparser in /usr/local/lib/python3.8/dist-packages (from cffi>=1.0->soundfile>=0.10.2->librosa) (2.21)\n",
            "Requirement already satisfied: zipp>=0.5 in /usr/local/lib/python3.8/dist-packages (from importlib-metadata->numba>=0.43.0->librosa) (3.11.0)\n",
            "Looking in indexes: https://pypi.org/simple, https://us-python.pkg.dev/colab-wheels/public/simple/\n",
            "Requirement already satisfied: numpy in /usr/local/lib/python3.8/dist-packages (1.21.6)\n",
            "Looking in indexes: https://pypi.org/simple, https://us-python.pkg.dev/colab-wheels/public/simple/\n",
            "Requirement already satisfied: scipy in /usr/local/lib/python3.8/dist-packages (1.7.3)\n",
            "Requirement already satisfied: numpy<1.23.0,>=1.16.5 in /usr/local/lib/python3.8/dist-packages (from scipy) (1.21.6)\n",
            "Looking in indexes: https://pypi.org/simple, https://us-python.pkg.dev/colab-wheels/public/simple/\n",
            "Requirement already satisfied: pandas in /usr/local/lib/python3.8/dist-packages (1.3.5)\n",
            "Requirement already satisfied: python-dateutil>=2.7.3 in /usr/local/lib/python3.8/dist-packages (from pandas) (2.8.2)\n",
            "Requirement already satisfied: numpy>=1.17.3 in /usr/local/lib/python3.8/dist-packages (from pandas) (1.21.6)\n",
            "Requirement already satisfied: pytz>=2017.3 in /usr/local/lib/python3.8/dist-packages (from pandas) (2022.6)\n",
            "Requirement already satisfied: six>=1.5 in /usr/local/lib/python3.8/dist-packages (from python-dateutil>=2.7.3->pandas) (1.15.0)\n"
          ]
        }
      ]
    },
    {
      "cell_type": "code",
      "source": [
        "import librosa\n",
        "import numpy as np\n",
        "import pandas as pd\n",
        "import os\n",
        "import subprocess"
      ],
      "metadata": {
        "id": "LfrSy6NQit4u"
      },
      "execution_count": 3,
      "outputs": []
    },
    {
      "cell_type": "markdown",
      "source": [
        "## Downloading datasets"
      ],
      "metadata": {
        "id": "GEjgQgxciULk"
      }
    },
    {
      "cell_type": "markdown",
      "source": [
        "### Creating folders as per classes"
      ],
      "metadata": {
        "id": "8cMzOlaTjsb8"
      }
    },
    {
      "cell_type": "code",
      "source": [
        "%cd '/content/drive/Shareddrives'"
      ],
      "metadata": {
        "colab": {
          "base_uri": "https://localhost:8080/"
        },
        "id": "2gfvvxYlgRec",
        "outputId": "346d610a-8f75-49a5-feeb-15fce26c3d87"
      },
      "execution_count": 4,
      "outputs": [
        {
          "output_type": "stream",
          "name": "stdout",
          "text": [
            "/content/drive/Shareddrives\n"
          ]
        }
      ]
    },
    {
      "cell_type": "code",
      "source": [
        "if \"speech_database\" not in os.listdir():\n",
        "  os.mkdir(\"speech_database\")\n",
        "  print(\"Database folder created successfully\")\n",
        "else:\n",
        "  print(\"Database folder exists.\")\n",
        "if \"speech_communication\" not in os.listdir():\n",
        "  os.mkdir(\"speech_communication\")\n",
        "  print(\"Project folder created successfully\")\n",
        "else:\n",
        "  print(\"Project folder exists.\")\n",
        "MAIN_DIR_PATH = f'/content/drive/Shareddrives/speech_communication'\n",
        "MAIN_DB_PATH =  f'/content/drive/Shareddrives/speech_database'"
      ],
      "metadata": {
        "id": "4RZiOOpI1gtl",
        "colab": {
          "base_uri": "https://localhost:8080/"
        },
        "outputId": "8152f68f-0f9f-426a-e92b-2742f5114352"
      },
      "execution_count": 5,
      "outputs": [
        {
          "output_type": "stream",
          "name": "stdout",
          "text": [
            "Database folder exists.\n",
            "Project folder exists.\n"
          ]
        }
      ]
    },
    {
      "cell_type": "code",
      "source": [
        "%cd {MAIN_DB_PATH}"
      ],
      "metadata": {
        "id": "iYLw43rBiXVF",
        "colab": {
          "base_uri": "https://localhost:8080/"
        },
        "outputId": "b804e44a-c1bc-4391-eee7-920a02140a3a"
      },
      "execution_count": 6,
      "outputs": [
        {
          "output_type": "stream",
          "name": "stdout",
          "text": [
            "/content/drive/Shareddrives/speech_database\n"
          ]
        }
      ]
    },
    {
      "cell_type": "code",
      "source": [
        "extensions = ['aa','ab','ac','ad','ae','af','ag','ah','ai','aj','ak','al','am','an','ao','ap','aq','ar','as','at','au','av','aw','ax','ay','az']\n",
        "languages = ['English_Hindi','English_Kannada','English_Malayalam','English_Tamil','English_Telugu']\n",
        "classes = ['Hindi','Kannada','Malayalam','Tamil','Telugu']\n",
        "recordings = [\n",
        "    ['English_Hindi','Hindi'],\n",
        "    ['English_Kannada','Kannada'],\n",
        "    ['English_Malayalam','Malayalam'],\n",
        "    ['English_Tamil','Tamil'],\n",
        "    ['English_Telugu','Telugu'],\n",
        "]"
      ],
      "metadata": {
        "id": "DNOxC9Xq1wUJ"
      },
      "execution_count": 7,
      "outputs": []
    },
    {
      "cell_type": "code",
      "source": [
        "list_dir = os.listdir()"
      ],
      "metadata": {
        "id": "EI9dMI0y4ohj"
      },
      "execution_count": 8,
      "outputs": []
    },
    {
      "cell_type": "code",
      "source": [
        "for language in languages:\n",
        "  if language not in list_dir:\n",
        "    os.mkdir(language)\n",
        "    print(f\"{language} folder created!\")\n",
        "  else:\n",
        "    print(f\"{language} folder already exists!\")"
      ],
      "metadata": {
        "colab": {
          "base_uri": "https://localhost:8080/"
        },
        "id": "401cHwQd7T0c",
        "outputId": "65c4702d-2c4f-4c10-c90b-3945cf887d08"
      },
      "execution_count": 9,
      "outputs": [
        {
          "output_type": "stream",
          "name": "stdout",
          "text": [
            "English_Hindi folder already exists!\n",
            "English_Kannada folder already exists!\n",
            "English_Malayalam folder already exists!\n",
            "English_Tamil folder already exists!\n",
            "English_Telugu folder already exists!\n"
          ]
        }
      ]
    },
    {
      "cell_type": "markdown",
      "source": [
        "### Downloading and extracting datasets"
      ],
      "metadata": {
        "id": "cDVs4FmOGzkL"
      }
    },
    {
      "cell_type": "code",
      "source": [
        "os.chdir(MAIN_DB_PATH)"
      ],
      "metadata": {
        "id": "HoyY4CyG8P_4"
      },
      "execution_count": 10,
      "outputs": []
    },
    {
      "cell_type": "code",
      "source": [
        "for i in range(0,len(recordings)):\n",
        "  os.chdir(f'English_{recordings[i][1]}')\n",
        "  main_path = os.getcwd()\n",
        "  print(f\"Initiating dataset download for {recordings[i][1]} at location {main_path}\")\n",
        "  for r in recordings[i]:\n",
        "    if r not in os.listdir():\n",
        "      os.mkdir(r)\n",
        "    os.chdir(r)\n",
        "    if \"RECS\" in os.listdir():\n",
        "      print(\"RECS exists!!\")\n",
        "      os.chdir(main_path)\n",
        "      continue\n",
        "    print(f'Downloading {r} zips...')\n",
        "    for ext in extensions:\n",
        "      subprocess.call(['wget',f'https://github.com/iiscleap/NISP-Dataset/raw/master/{recordings[i][1]}_master/{r}/RECS.tar.gz.{ext}'])\n",
        "    os.system(f'cat RECS.tar.gz.a* > {r}.tar.gz')\n",
        "    os.system(f'cat *.tar.gz.* | zcat | tar xvfz -')\n",
        "    print(f'Download and extraction complete for {r} recordings in {recordings[i][1]}!!')\n",
        "    os.chdir(main_path)\n",
        "  os.chdir(MAIN_DB_PATH)"
      ],
      "metadata": {
        "id": "broPnx5A3Xu1",
        "colab": {
          "base_uri": "https://localhost:8080/"
        },
        "outputId": "69e4047a-d7fe-49e6-a43f-a14a2b4a316b"
      },
      "execution_count": 13,
      "outputs": [
        {
          "output_type": "stream",
          "name": "stdout",
          "text": [
            "Initiating dataset download for Hindi at location /content/drive/Shareddrives/speech_database/English_Hindi\n",
            "RECS exists!!\n",
            "RECS exists!!\n",
            "Initiating dataset download for Kannada at location /content/drive/Shareddrives/speech_database/English_Kannada\n",
            "RECS exists!!\n",
            "RECS exists!!\n",
            "Initiating dataset download for Malayalam at location /content/drive/Shareddrives/speech_database/English_Malayalam\n",
            "RECS exists!!\n",
            "RECS exists!!\n",
            "Initiating dataset download for Tamil at location /content/drive/Shareddrives/speech_database/English_Tamil\n",
            "RECS exists!!\n",
            "RECS exists!!\n",
            "Initiating dataset download for Telugu at location /content/drive/Shareddrives/speech_database/English_Telugu\n",
            "RECS exists!!\n",
            "RECS exists!!\n"
          ]
        }
      ]
    }
  ]
}